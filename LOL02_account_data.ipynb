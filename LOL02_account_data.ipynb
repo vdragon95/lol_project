{
  "nbformat": 4,
  "nbformat_minor": 0,
  "metadata": {
    "colab": {
      "name": "LOL02 account_data.ipynb",
      "provenance": [],
      "collapsed_sections": [],
      "authorship_tag": "ABX9TyP713dYxww3al+P1AIQDvir",
      "include_colab_link": true
    },
    "kernelspec": {
      "name": "python3",
      "display_name": "Python 3"
    }
  },
  "cells": [
    {
      "cell_type": "markdown",
      "metadata": {
        "id": "view-in-github",
        "colab_type": "text"
      },
      "source": [
        "<a href=\"https://colab.research.google.com/github/vdragon95/lol_project/blob/develop/LOL02_account_data.ipynb\" target=\"_parent\"><img src=\"https://colab.research.google.com/assets/colab-badge.svg\" alt=\"Open In Colab\"/></a>"
      ]
    },
    {
      "cell_type": "code",
      "metadata": {
        "id": "Eo6_2tbQXap1",
        "colab": {
          "base_uri": "https://localhost:8080/"
        },
        "outputId": "3b816710-5305-42f5-dd12-f8697253f72d"
      },
      "source": [
        "from google.colab import drive\r\n",
        "drive.mount('/content/drive')"
      ],
      "execution_count": null,
      "outputs": [
        {
          "output_type": "stream",
          "text": [
            "Drive already mounted at /content/drive; to attempt to forcibly remount, call drive.mount(\"/content/drive\", force_remount=True).\n"
          ],
          "name": "stdout"
        }
      ]
    },
    {
      "cell_type": "code",
      "metadata": {
        "colab": {
          "base_uri": "https://localhost:8080/",
          "height": 35
        },
        "id": "3DSA485yqoZ2",
        "outputId": "b1a218a0-e9ed-445c-c118-9ada5f9f720e"
      },
      "source": [
        "pwd"
      ],
      "execution_count": null,
      "outputs": [
        {
          "output_type": "execute_result",
          "data": {
            "application/vnd.google.colaboratory.intrinsic+json": {
              "type": "string"
            },
            "text/plain": [
              "'/content'"
            ]
          },
          "metadata": {
            "tags": []
          },
          "execution_count": 2
        }
      ]
    },
    {
      "cell_type": "code",
      "metadata": {
        "id": "L8x5tr_4Yt8c"
      },
      "source": [
        "import requests\r\n",
        "import pandas as pd\r\n",
        "import time\r\n",
        "\r\n",
        "api_key = 'RGAPI-5160c2f2-ceb9-4355-ac33-b2ebc1ae9aa6'\r\n",
        "\r\n",
        "# queue = 'RANKED_SOLO_5x5'\r\n",
        "tier = 'PLATINUM' # PLATINUM, DIAMOND\r\n",
        "division = 'I' # I, II, III, IV"
      ],
      "execution_count": null,
      "outputs": []
    },
    {
      "cell_type": "code",
      "metadata": {
        "id": "ASwVG1PvZIlv"
      },
      "source": [
        "# <account data>\r\n",
        "\r\n",
        "tier_df = pd.read_csv('/content/drive/MyDrive/Colab Notebooks/' + tier + '/' + \r\n",
        "                tier + '_' + division + '_tier_data.csv')\r\n",
        "\r\n",
        "for i in range(len(tier_df)):\r\n",
        "    try:\r\n",
        "        sohwan = 'https://kr.api.riotgames.com/lol/summoner/v4/summoners/by-name/' + tier_df['summonerName'].iloc[i] + '?api_key=' + api_key \r\n",
        "        r = requests.get(sohwan)\r\n",
        "        \r\n",
        "        while r.status_code == 429: # 한도 초과 시 재우기 위함\r\n",
        "            time.sleep(5)\r\n",
        "            sohwan = 'https://kr.api.riotgames.com/lol/summoner/v4/summoners/by-name/' + tier_df['summonerName'].iloc[i] + '?api_key=' + api_key \r\n",
        "            r = requests.get(sohwan)\r\n",
        "            \r\n",
        "        account_id = r.json()['accountId']\r\n",
        "        tier_df['account_id'] = account_id # accountId 붙여 넣기\r\n",
        "        print('받아오기 성공')\r\n",
        "    \r\n",
        "    except Exception as e:\r\n",
        "        print('[err.]:',i,'번째', e)\r\n",
        "print('accountId 받아오기 성공')\r\n",
        "\r\n",
        "tier_df.to_csv('/content/drive/MyDrive/Colab Notebooks/' + tier + '/' + \r\n",
        "                tier + '_' + division + '_tier_data.csv',index=False,encoding = 'cp949') #중간저장\r\n"
      ],
      "execution_count": null,
      "outputs": []
    }
  ]
}