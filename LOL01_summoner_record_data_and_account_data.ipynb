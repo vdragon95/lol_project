{
  "nbformat": 4,
  "nbformat_minor": 0,
  "metadata": {
    "colab": {
      "name": "LOL01 summoner_record_data and account_data.ipynb",
      "provenance": [],
      "collapsed_sections": [],
      "authorship_tag": "ABX9TyNYqY2XQtyP9ynIedUvNAyj",
      "include_colab_link": true
    },
    "kernelspec": {
      "name": "python3",
      "display_name": "Python 3"
    }
  },
  "cells": [
    {
      "cell_type": "markdown",
      "metadata": {
        "id": "view-in-github",
        "colab_type": "text"
      },
      "source": [
        "<a href=\"https://colab.research.google.com/github/vdragon95/lol_project/blob/develop/LOL01_summoner_record_data_and_account_data.ipynb\" target=\"_parent\"><img src=\"https://colab.research.google.com/assets/colab-badge.svg\" alt=\"Open In Colab\"/></a>"
      ]
    },
    {
      "cell_type": "code",
      "metadata": {
        "id": "Eo6_2tbQXap1",
        "colab": {
          "base_uri": "https://localhost:8080/"
        },
        "outputId": "2385ac4e-ddb1-4345-bd1b-3002c314e6d0"
      },
      "source": [
        "from google.colab import drive\r\n",
        "drive.mount('/content/drive')"
      ],
      "execution_count": null,
      "outputs": [
        {
          "output_type": "stream",
          "text": [
            "Drive already mounted at /content/drive; to attempt to forcibly remount, call drive.mount(\"/content/drive\", force_remount=True).\n"
          ],
          "name": "stdout"
        }
      ]
    },
    {
      "cell_type": "code",
      "metadata": {
        "colab": {
          "base_uri": "https://localhost:8080/",
          "height": 35
        },
        "id": "3DSA485yqoZ2",
        "outputId": "cb987476-a793-4db6-a890-454c6c805449"
      },
      "source": [
        "pwd"
      ],
      "execution_count": null,
      "outputs": [
        {
          "output_type": "execute_result",
          "data": {
            "application/vnd.google.colaboratory.intrinsic+json": {
              "type": "string"
            },
            "text/plain": [
              "'/content'"
            ]
          },
          "metadata": {
            "tags": []
          },
          "execution_count": 11
        }
      ]
    },
    {
      "cell_type": "code",
      "metadata": {
        "id": "L8x5tr_4Yt8c"
      },
      "source": [
        "import requests\r\n",
        "import pandas as pd\r\n",
        "import numpy as np\r\n",
        "import time\r\n",
        "\r\n",
        "api_key = 'RGAPI-5160c2f2-ceb9-4355-ac33-b2ebc1ae9aa6'\r\n",
        "\r\n",
        "# queue = 'RANKED_SOLO_5x5'\r\n",
        "tier = 'PLATINUM' # PLATINUM, DIAMOND\r\n",
        "division = 'I' # I, II, III, IV"
      ],
      "execution_count": null,
      "outputs": []
    },
    {
      "cell_type": "code",
      "metadata": {
        "colab": {
          "base_uri": "https://localhost:8080/"
        },
        "id": "gh0omlcGqwuO",
        "outputId": "d43ab1ce-a561-4919-dd35-d48dac6ba2df"
      },
      "source": [
        "# <tier data> - PLATINUM, DIAMOND\r\n",
        "\r\n",
        "tier_df = pd.DataFrame()\r\n",
        "\r\n",
        "page = 1\r\n",
        "while True:\r\n",
        "    # print(page, '시작')\r\n",
        "    try:\r\n",
        "        print(tier, division, page)\r\n",
        "        sohwan = \"https://kr.api.riotgames.com/lol/league/v4/entries/RANKED_SOLO_5x5/\" + tier + \\\r\n",
        "                \"/\" + division +\"?page=\"+str(page)+\"&api_key=\" + api_key\r\n",
        "        # print(sohwan)\r\n",
        "        r = requests.get(sohwan)\r\n",
        "\r\n",
        "        if r.json() == []:\r\n",
        "            print(\"더 이상 받아올 파일이 없습니다.\")\r\n",
        "            break\r\n",
        "        \r\n",
        "        tier_d = pd.DataFrame(r.json())\r\n",
        "\r\n",
        "        # tier_d.reset_index(inplace=True) #수집한 그마데이터 index정리 (굳이 index 칼럼을 넣는 다는 뜻 → for concat()) \r\n",
        "\r\n",
        "        # 필요 없는 칼럼 삭제\r\n",
        "        tier_d = tier_d.drop(['queueType', 'leagueId', 'miniSeries'], axis=1)\r\n",
        "        tier_df = tier_df.append(tier_d, ignore_index=True)\r\n",
        "        # print(tier_df.shape)\r\n",
        "        break\r\n",
        "\r\n",
        "    except Exception as e:\r\n",
        "        print(\"err:\", e)\r\n",
        "        break\r\n",
        "\r\n",
        "    # print(page,'끝')\r\n",
        "    page = page + 1\r\n",
        "    \r\n",
        "print(tier_df.shape, 'tier_data successfully loaded')"
      ],
      "execution_count": null,
      "outputs": [
        {
          "output_type": "stream",
          "text": [
            "PLATINUM I 1\n",
            "(205, 11) tier_data successfully loaded\n"
          ],
          "name": "stdout"
        }
      ]
    },
    {
      "cell_type": "code",
      "metadata": {
        "id": "rS6LS7wnLjFe"
      },
      "source": [
        "tier_df.to_csv('/content/drive/MyDrive/Colab Notebooks/' + tier + '/' + \\\r\n",
        "                tier + '_' + division + '_01tier_data.csv',index=False, encoding = 'cp949') #중간저장"
      ],
      "execution_count": null,
      "outputs": []
    },
    {
      "cell_type": "code",
      "metadata": {
        "id": "PgSSyn0G5Ioo",
        "colab": {
          "base_uri": "https://localhost:8080/"
        },
        "outputId": "2f797601-710a-4b76-836c-c647c1014d25"
      },
      "source": [
        "# <account data>\r\n",
        "tier_df['accountId'] = pd.Series()\r\n",
        "for i in range(len(tier_df)):\r\n",
        "    try:\r\n",
        "        sohwan = 'https://kr.api.riotgames.com/lol/summoner/v4/summoners/by-name/' + tier_df['summonerName'].iloc[i] + '?api_key=' + api_key \r\n",
        "        r = requests.get(sohwan)\r\n",
        "        \r\n",
        "        while r.status_code == 429: # 한도 초과 시 재우기 위함\r\n",
        "            time.sleep(5)\r\n",
        "            sohwan = 'https://kr.api.riotgames.com/lol/summoner/v4/summoners/by-name/' + tier_df['summonerName'].iloc[i] + '?api_key=' + api_key \r\n",
        "            r = requests.get(sohwan)\r\n",
        "        account_id = r.json()['accountId']\r\n",
        "        tier_df['accountId'][i] = account_id # accountId 붙여 넣기\r\n",
        "    \r\n",
        "    except Exception as e:\r\n",
        "        print('[err.]:',i,'번째', e)\r\n"
      ],
      "execution_count": null,
      "outputs": [
        {
          "output_type": "stream",
          "text": [
            "/usr/local/lib/python3.6/dist-packages/ipykernel_launcher.py:2: DeprecationWarning: The default dtype for empty Series will be 'object' instead of 'float64' in a future version. Specify a dtype explicitly to silence this warning.\n",
            "  \n",
            "/usr/local/lib/python3.6/dist-packages/ipykernel_launcher.py:13: SettingWithCopyWarning: \n",
            "A value is trying to be set on a copy of a slice from a DataFrame\n",
            "\n",
            "See the caveats in the documentation: https://pandas.pydata.org/pandas-docs/stable/user_guide/indexing.html#returning-a-view-versus-a-copy\n",
            "  del sys.path[0]\n",
            "/usr/local/lib/python3.6/dist-packages/pandas/core/indexing.py:670: SettingWithCopyWarning: \n",
            "A value is trying to be set on a copy of a slice from a DataFrame\n",
            "\n",
            "See the caveats in the documentation: https://pandas.pydata.org/pandas-docs/stable/user_guide/indexing.html#returning-a-view-versus-a-copy\n",
            "  iloc._setitem_with_indexer(indexer, value)\n"
          ],
          "name": "stderr"
        },
        {
          "output_type": "stream",
          "text": [
            "[err.]: 1 번째 'accountId'\n",
            "[err.]: 4 번째 'accountId'\n",
            "[err.]: 16 번째 'accountId'\n",
            "[err.]: 33 번째 'accountId'\n",
            "[err.]: 34 번째 'accountId'\n",
            "[err.]: 41 번째 'accountId'\n",
            "[err.]: 42 번째 'accountId'\n",
            "[err.]: 57 번째 'accountId'\n",
            "[err.]: 63 번째 'accountId'\n",
            "[err.]: 68 번째 'accountId'\n",
            "[err.]: 69 번째 'accountId'\n",
            "[err.]: 81 번째 'accountId'\n",
            "[err.]: 82 번째 'accountId'\n",
            "[err.]: 83 번째 'accountId'\n",
            "[err.]: 90 번째 'accountId'\n",
            "[err.]: 97 번째 'accountId'\n",
            "[err.]: 98 번째 'accountId'\n",
            "[err.]: 105 번째 'accountId'\n",
            "[err.]: 106 번째 'accountId'\n",
            "[err.]: 111 번째 'accountId'\n",
            "[err.]: 118 번째 'accountId'\n",
            "[err.]: 123 번째 'accountId'\n",
            "[err.]: 149 번째 'accountId'\n",
            "[err.]: 150 번째 'accountId'\n",
            "[err.]: 155 번째 'accountId'\n",
            "[err.]: 186 번째 'accountId'\n",
            "[err.]: 187 번째 'accountId'\n",
            "[err.]: 201 번째 'accountId'\n"
          ],
          "name": "stdout"
        }
      ]
    },
    {
      "cell_type": "code",
      "metadata": {
        "colab": {
          "base_uri": "https://localhost:8080/"
        },
        "id": "iurqXkJEfkmj",
        "outputId": "9e8a7c09-5d9c-412d-f95b-8df9cc5f06e1"
      },
      "source": [
        "tier_df.to_csv('/content/drive/MyDrive/Colab Notebooks/' + tier + '/' + \r\n",
        "                tier + '_' + division + '_01tier_data.csv',index=False,encoding = 'cp949') #중간저장\r\n",
        "print('tier_data File successfully saved')"
      ],
      "execution_count": null,
      "outputs": [
        {
          "output_type": "stream",
          "text": [
            "tier_data File successfully saved\n"
          ],
          "name": "stdout"
        }
      ]
    }
  ]
}