{
  "nbformat": 4,
  "nbformat_minor": 0,
  "metadata": {
    "colab": {
      "name": "LOL01-1 summoner_record_data and account_data.ipynb",
      "provenance": [],
      "collapsed_sections": [],
      "authorship_tag": "ABX9TyPG+85TSiOFVZBuL4AjJCZO",
      "include_colab_link": true
    },
    "kernelspec": {
      "name": "python3",
      "display_name": "Python 3"
    }
  },
  "cells": [
    {
      "cell_type": "markdown",
      "metadata": {
        "id": "view-in-github",
        "colab_type": "text"
      },
      "source": [
        "<a href=\"https://colab.research.google.com/github/vdragon95/lol_project/blob/develop/LOL01_1_summoner_record_data_and_account_data.ipynb\" target=\"_parent\"><img src=\"https://colab.research.google.com/assets/colab-badge.svg\" alt=\"Open In Colab\"/></a>"
      ]
    },
    {
      "cell_type": "code",
      "metadata": {
        "id": "Eo6_2tbQXap1",
        "colab": {
          "base_uri": "https://localhost:8080/"
        },
        "outputId": "ce16478d-50ec-4a99-c336-b0a01757cfa1"
      },
      "source": [
        "from google.colab import drive\r\n",
        "drive.mount('/content/drive')"
      ],
      "execution_count": null,
      "outputs": [
        {
          "output_type": "stream",
          "text": [
            "Mounted at /content/drive\n"
          ],
          "name": "stdout"
        }
      ]
    },
    {
      "cell_type": "code",
      "metadata": {
        "colab": {
          "base_uri": "https://localhost:8080/",
          "height": 35
        },
        "id": "3DSA485yqoZ2",
        "outputId": "6a2656e8-7375-4540-8733-e8ad31dc32f6"
      },
      "source": [
        "pwd"
      ],
      "execution_count": null,
      "outputs": [
        {
          "output_type": "execute_result",
          "data": {
            "application/vnd.google.colaboratory.intrinsic+json": {
              "type": "string"
            },
            "text/plain": [
              "'/content'"
            ]
          },
          "metadata": {
            "tags": []
          },
          "execution_count": 3
        }
      ]
    },
    {
      "cell_type": "code",
      "metadata": {
        "id": "L8x5tr_4Yt8c"
      },
      "source": [
        "import requests\r\n",
        "import pandas as pd\r\n",
        "import numpy as np\r\n",
        "import time\r\n",
        "\r\n",
        "api_key = 'RGAPI-5160c2f2-ceb9-4355-ac33-b2ebc1ae9aa6'\r\n",
        "\r\n",
        "# queue = 'RANKED_SOLO_5x5'\r\n",
        "tier = 'grandmaster' # master, challenger"
      ],
      "execution_count": null,
      "outputs": []
    },
    {
      "cell_type": "code",
      "metadata": {
        "colab": {
          "base_uri": "https://localhost:8080/"
        },
        "id": "LbFTJd8ZRX_1",
        "outputId": "372f01e4-1aaf-4c23-9fe9-1bb08988e303"
      },
      "source": [
        "# <league data> - grandmaster\r\n",
        "grandmaster = 'https://kr.api.riotgames.com/lol/league/v4/'+ tier +'leagues/by-queue/RANKED_SOLO_5x5?api_key=' + api_key\r\n",
        "            # https://kr.api.riotgames.com/lol/league/v4/entries/RANKED_SOLO_5x5/\" + tier + \\\r\n",
        "            #                 \"/\" + division +\"?page=\"+str(page)+\"&api_key=\" + api_key (비교용)\r\n",
        "r = requests.get(grandmaster)\r\n",
        "print(r.status_code)\r\n",
        "league_df = pd.DataFrame(r.json()) # json[dict]형태로 변환하여 바로 DataFrame으로 변형 \r\n",
        "league_df.reset_index(inplace=True)\r\n",
        "\r\n",
        "print(league_df.columns)\r\n",
        "print(league_df['entries'])\r\n",
        "# json내의 DTO(list) → DataFrame화 → concat()\r\n",
        "league_entries_df = pd.DataFrame(dict(league_df['entries'])).T\r\n",
        "league_df = pd.concat([league_df, league_entries_df], axis=1) #열끼리 결합 (index column 따로 굳이 안만들어도 생성됨)\r\n",
        "\r\n",
        "# 필요 없는 칼럼 삭제\r\n",
        "league_df = league_df.drop(['index', 'queue', 'name', 'leagueId', 'entries'], axis=1) # 'rank'는 혹시 다른 티어 때 사용 할 수 있음\r\n",
        "\r\n",
        "# csv로 저장\r\n",
        "league_df.to_csv('/content/drive/MyDrive/Colab Notebooks/' + tier + '/' + \\\r\n",
        "                tier + '_01tier_data.csv',index=False,encoding = 'cp949') #중간저장"
      ],
      "execution_count": null,
      "outputs": [
        {
          "output_type": "stream",
          "text": [
            "200\n",
            "Index(['index', 'tier', 'leagueId', 'queue', 'name', 'entries'], dtype='object')\n",
            "0      {'summonerId': '8Xp_7Y0P6pITQNp7AmR6MYkVJUASsj...\n",
            "1      {'summonerId': 'bh6i40gt5z31LUaYm5QOD-WICPWf9M...\n",
            "2      {'summonerId': 'aPwfayR-C0kHkykJT0RcbNyhZ0Vm2n...\n",
            "3      {'summonerId': 'K-52BrqG_CDRfT5ekmi9p4Tv4p6o2o...\n",
            "4      {'summonerId': 'i_DTnFypOxNAdcyL_ROl9kT6kz0Oir...\n",
            "                             ...                        \n",
            "695    {'summonerId': 'faaghMCvZCWrv5Y7FmgW1IERfXAjW3...\n",
            "696    {'summonerId': 'E7cdyisHuUZ9ALlHZ70bp7reTBLZdw...\n",
            "697    {'summonerId': '2z66EM_l3Ws0ib2zlKH8a8zCokSKlf...\n",
            "698    {'summonerId': 'tvuqenG6fsbOwyX8Bh9bXEorTy_xG8...\n",
            "699    {'summonerId': 'KfCWwO-dgwbqGTSmWVJu-9sYFlDV_C...\n",
            "Name: entries, Length: 700, dtype: object\n"
          ],
          "name": "stdout"
        }
      ]
    },
    {
      "cell_type": "code",
      "metadata": {
        "id": "PgSSyn0G5Ioo",
        "colab": {
          "base_uri": "https://localhost:8080/"
        },
        "outputId": "b0a0590e-bd97-4119-fedc-bf84894005fe"
      },
      "source": [
        "# <account data>\r\n",
        "league_df['accountId'] = pd.Series()\r\n",
        "print(len(league_df))\r\n",
        "for i in range(len(league_df)):\r\n",
        "    try:\r\n",
        "        sohwan = 'https://kr.api.riotgames.com/lol/summoner/v4/summoners/by-name/' + league_df['summonerName'].iloc[i] + '?api_key=' + api_key \r\n",
        "        r = requests.get(sohwan)\r\n",
        "        \r\n",
        "        while r.status_code == 429: # 한도 초과 시 재우기 위함\r\n",
        "            time.sleep(5)\r\n",
        "            sohwan = 'https://kr.api.riotgames.com/lol/summoner/v4/summoners/by-name/' + league_df['summonerName'].iloc[i] + '?api_key=' + api_key \r\n",
        "            r = requests.get(sohwan)\r\n",
        "        account_id = r.json()['accountId']\r\n",
        "        league_df['accountId'][i] = account_id # accountId 붙여 넣기\r\n",
        "    \r\n",
        "    except Exception as e:\r\n",
        "        print('[err.]:',i,'번째', e)\r\n"
      ],
      "execution_count": null,
      "outputs": [
        {
          "output_type": "stream",
          "text": [
            "/usr/local/lib/python3.6/dist-packages/ipykernel_launcher.py:2: DeprecationWarning: The default dtype for empty Series will be 'object' instead of 'float64' in a future version. Specify a dtype explicitly to silence this warning.\n",
            "  \n",
            "/usr/local/lib/python3.6/dist-packages/ipykernel_launcher.py:13: SettingWithCopyWarning: \n",
            "A value is trying to be set on a copy of a slice from a DataFrame\n",
            "\n",
            "See the caveats in the documentation: https://pandas.pydata.org/pandas-docs/stable/user_guide/indexing.html#returning-a-view-versus-a-copy\n",
            "  del sys.path[0]\n",
            "/usr/local/lib/python3.6/dist-packages/pandas/core/indexing.py:670: SettingWithCopyWarning: \n",
            "A value is trying to be set on a copy of a slice from a DataFrame\n",
            "\n",
            "See the caveats in the documentation: https://pandas.pydata.org/pandas-docs/stable/user_guide/indexing.html#returning-a-view-versus-a-copy\n",
            "  iloc._setitem_with_indexer(indexer, value)\n"
          ],
          "name": "stderr"
        },
        {
          "output_type": "stream",
          "text": [
            "[err.]: 1 번째 'accountId'\n",
            "[err.]: 24 번째 'accountId'\n",
            "[err.]: 42 번째 'accountId'\n",
            "[err.]: 45 번째 'accountId'\n",
            "[err.]: 60 번째 'accountId'\n",
            "[err.]: 130 번째 'accountId'\n",
            "[err.]: 135 번째 'accountId'\n",
            "[err.]: 186 번째 'accountId'\n",
            "[err.]: 201 번째 'accountId'\n",
            "[err.]: 205 번째 'accountId'\n",
            "[err.]: 243 번째 'accountId'\n",
            "[err.]: 260 번째 'accountId'\n",
            "[err.]: 310 번째 'accountId'\n",
            "[err.]: 348 번째 'accountId'\n",
            "[err.]: 349 번째 'accountId'\n",
            "[err.]: 351 번째 'accountId'\n",
            "[err.]: 361 번째 'accountId'\n",
            "[err.]: 369 번째 'accountId'\n",
            "[err.]: 375 번째 'accountId'\n",
            "[err.]: 406 번째 'accountId'\n",
            "[err.]: 415 번째 'accountId'\n",
            "[err.]: 465 번째 'accountId'\n",
            "[err.]: 498 번째 'accountId'\n",
            "[err.]: 514 번째 'accountId'\n",
            "[err.]: 540 번째 'accountId'\n",
            "[err.]: 578 번째 'accountId'\n",
            "[err.]: 599 번째 'accountId'\n",
            "[err.]: 634 번째 'accountId'\n",
            "[err.]: 663 번째 'accountId'\n",
            "[err.]: 693 번째 'accountId'\n"
          ],
          "name": "stdout"
        }
      ]
    },
    {
      "cell_type": "code",
      "metadata": {
        "colab": {
          "base_uri": "https://localhost:8080/"
        },
        "id": "iurqXkJEfkmj",
        "outputId": "5154013d-4191-42c6-fa84-668f46d64e13"
      },
      "source": [
        "league_df.to_csv('/content/drive/MyDrive/Colab Notebooks/' + tier + '/' + \\\r\n",
        "                tier + '_01tier_data.csv',index=False,encoding = 'cp949') #중간저장\r\n",
        "print('tier_data File successfully saved')"
      ],
      "execution_count": null,
      "outputs": [
        {
          "output_type": "stream",
          "text": [
            "tier_data File successfully saved\n"
          ],
          "name": "stdout"
        }
      ]
    },
    {
      "cell_type": "code",
      "metadata": {
        "id": "SnSqv6RqxXT2"
      },
      "source": [
        ""
      ],
      "execution_count": null,
      "outputs": []
    }
  ]
}